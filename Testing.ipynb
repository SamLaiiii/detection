{
 "cells": [
  {
   "cell_type": "code",
   "execution_count": 1,
   "metadata": {},
   "outputs": [],
   "source": [
    "from Test import data\n",
    "from Test import file_name\n",
    "from Test import SN_LC\n",
    "import numpy as np\n",
    "import pandas as pd\n",
    "import math\n",
    "\n",
    "import matplotlib.pyplot as plt\n",
    "from scipy.optimize import curve_fit\n",
    "\n",
    "\n",
    "from matplotlib.pyplot import figure\n",
    "from Test import rise1\n",
    "\n",
    "from Test import fall\n",
    "from Test import curvefitting_and_plot"
   ]
  },
  {
   "cell_type": "code",
   "execution_count": 6,
   "metadata": {},
   "outputs": [
    {
     "name": "stdout",
     "output_type": "stream",
     "text": [
      "1.311\n",
      "-0.1227643037738024\n",
      "58211.214\n",
      "58211.214 58221.893\n",
      "16.966999999996915\n",
      "10.67899999999645\n",
      "17.064 18.375\n"
     ]
    },
    {
     "ename": "TypeError",
     "evalue": "The number of func parameters=7 must not exceed the number of data points=4",
     "output_type": "error",
     "traceback": [
      "\u001b[0;31m---------------------------------------------------------------------------\u001b[0m",
      "\u001b[0;31mTypeError\u001b[0m                                 Traceback (most recent call last)",
      "\u001b[1;32m/Users/eddie_tang/Desktop/Testing.ipynb Cell 2'\u001b[0m in \u001b[0;36m<cell line: 20>\u001b[0;34m()\u001b[0m\n\u001b[1;32m     <a href='vscode-notebook-cell:/Users/eddie_tang/Desktop/Testing.ipynb#ch0000001?line=16'>17</a>\u001b[0m \u001b[39mprint\u001b[39m(np\u001b[39m.\u001b[39mmax(x) \u001b[39m-\u001b[39m x[np\u001b[39m.\u001b[39margmin(y)])\n\u001b[1;32m     <a href='vscode-notebook-cell:/Users/eddie_tang/Desktop/Testing.ipynb#ch0000001?line=18'>19</a>\u001b[0m \u001b[39mprint\u001b[39m(np\u001b[39m.\u001b[39mmin(y),np\u001b[39m.\u001b[39mmax(y))  \n\u001b[0;32m---> <a href='vscode-notebook-cell:/Users/eddie_tang/Desktop/Testing.ipynb#ch0000001?line=19'>20</a>\u001b[0m curvefitting_and_plot(SN_LC, time, mags, dy \u001b[39m=\u001b[39;49m mag_errors, target_and_filter_inst \u001b[39m=\u001b[39;49m \u001b[39m'\u001b[39;49m\u001b[39mtarget = 2018agk, Instrument= GPC1, filter = r\u001b[39;49m\u001b[39m'\u001b[39;49m )\n",
      "File \u001b[0;32m~/Desktop/Test.py:199\u001b[0m, in \u001b[0;36mcurvefitting_and_plot\u001b[0;34m(fitfunction, x, y, dy, xrange, yrange, make_image, target_and_filter_inst)\u001b[0m\n\u001b[1;32m    <a href='file:///Users/eddie_tang/Desktop/Test.py?line=192'>193</a>\u001b[0m \u001b[39m#     # t1 >> 0 \u001b[39;00m\n\u001b[1;32m    <a href='file:///Users/eddie_tang/Desktop/Test.py?line=193'>194</a>\u001b[0m \u001b[39m# #    bounds_sequence = (A, B, t0, t1,Trise, Tfall, c )\u001b[39;00m\n\u001b[1;32m    <a href='file:///Users/eddie_tang/Desktop/Test.py?line=194'>195</a>\u001b[0m \u001b[39m#     init_bounds = [0, - (np.min(y) - y[np.argmax(x)]) / (x[np.argmin(y)] - np.max(x)), 0, x[np.argmin(y)], 0, 0, np.min(y)]\u001b[39;00m\n\u001b[1;32m    <a href='file:///Users/eddie_tang/Desktop/Test.py?line=195'>196</a>\u001b[0m \u001b[39m#     fina_bounds = [np.max(y)-np.min(y), 0 , x[np.argmin(y)], np.max(x), x[np.argmin(y)] - np.min(x), np.max(x) - x[np.argmin(y)], np.max(y)]\u001b[39;00m\n\u001b[1;32m    <a href='file:///Users/eddie_tang/Desktop/Test.py?line=197'>198</a>\u001b[0m     xsmooth1 \u001b[39m=\u001b[39m np\u001b[39m.\u001b[39mlinspace(np\u001b[39m.\u001b[39mmin(x), np\u001b[39m.\u001b[39mmax(x), \u001b[39mlen\u001b[39m(x))\n\u001b[0;32m--> <a href='file:///Users/eddie_tang/Desktop/Test.py?line=198'>199</a>\u001b[0m     popt, pcov \u001b[39m=\u001b[39m opt\u001b[39m.\u001b[39;49mcurve_fit(fitfunction, x, y, p0 \u001b[39m=\u001b[39;49m guessparam, sigma\u001b[39m=\u001b[39;49m dy)\u001b[39m#p0 = guessparam bounds = (init_bounds,fina_bounds),\u001b[39;00m\n\u001b[1;32m    <a href='file:///Users/eddie_tang/Desktop/Test.py?line=200'>201</a>\u001b[0m     fsmooth1 \u001b[39m=\u001b[39m fitfunction(xsmooth1 , \u001b[39m*\u001b[39mpopt)\n\u001b[1;32m    <a href='file:///Users/eddie_tang/Desktop/Test.py?line=201'>202</a>\u001b[0m     plt\u001b[39m.\u001b[39mplot(xsmooth1, fsmooth1, color \u001b[39m=\u001b[39m \u001b[39m'\u001b[39m\u001b[39mred\u001b[39m\u001b[39m'\u001b[39m)\n",
      "File \u001b[0;32m~/opt/anaconda3/lib/python3.9/site-packages/scipy/optimize/minpack.py:785\u001b[0m, in \u001b[0;36mcurve_fit\u001b[0;34m(f, xdata, ydata, p0, sigma, absolute_sigma, check_finite, bounds, method, jac, **kwargs)\u001b[0m\n\u001b[1;32m    <a href='file:///Users/eddie_tang/opt/anaconda3/lib/python3.9/site-packages/scipy/optimize/minpack.py?line=781'>782</a>\u001b[0m \u001b[39mif\u001b[39;00m method \u001b[39m==\u001b[39m \u001b[39m'\u001b[39m\u001b[39mlm\u001b[39m\u001b[39m'\u001b[39m:\n\u001b[1;32m    <a href='file:///Users/eddie_tang/opt/anaconda3/lib/python3.9/site-packages/scipy/optimize/minpack.py?line=782'>783</a>\u001b[0m     \u001b[39m# if ydata.size == 1, this might be used for broadcast.\u001b[39;00m\n\u001b[1;32m    <a href='file:///Users/eddie_tang/opt/anaconda3/lib/python3.9/site-packages/scipy/optimize/minpack.py?line=783'>784</a>\u001b[0m     \u001b[39mif\u001b[39;00m ydata\u001b[39m.\u001b[39msize \u001b[39m!=\u001b[39m \u001b[39m1\u001b[39m \u001b[39mand\u001b[39;00m n \u001b[39m>\u001b[39m ydata\u001b[39m.\u001b[39msize:\n\u001b[0;32m--> <a href='file:///Users/eddie_tang/opt/anaconda3/lib/python3.9/site-packages/scipy/optimize/minpack.py?line=784'>785</a>\u001b[0m         \u001b[39mraise\u001b[39;00m \u001b[39mTypeError\u001b[39;00m(\u001b[39mf\u001b[39m\u001b[39m\"\u001b[39m\u001b[39mThe number of func parameters=\u001b[39m\u001b[39m{\u001b[39;00mn\u001b[39m}\u001b[39;00m\u001b[39m must not\u001b[39m\u001b[39m\"\u001b[39m\n\u001b[1;32m    <a href='file:///Users/eddie_tang/opt/anaconda3/lib/python3.9/site-packages/scipy/optimize/minpack.py?line=785'>786</a>\u001b[0m                         \u001b[39mf\u001b[39m\u001b[39m\"\u001b[39m\u001b[39m exceed the number of data points=\u001b[39m\u001b[39m{\u001b[39;00mydata\u001b[39m.\u001b[39msize\u001b[39m}\u001b[39;00m\u001b[39m\"\u001b[39m)\n\u001b[1;32m    <a href='file:///Users/eddie_tang/opt/anaconda3/lib/python3.9/site-packages/scipy/optimize/minpack.py?line=786'>787</a>\u001b[0m     \u001b[39m# Remove full_output from kwargs, otherwise we're passing it in twice.\u001b[39;00m\n\u001b[1;32m    <a href='file:///Users/eddie_tang/opt/anaconda3/lib/python3.9/site-packages/scipy/optimize/minpack.py?line=787'>788</a>\u001b[0m     return_full \u001b[39m=\u001b[39m kwargs\u001b[39m.\u001b[39mpop(\u001b[39m'\u001b[39m\u001b[39mfull_output\u001b[39m\u001b[39m'\u001b[39m, \u001b[39mFalse\u001b[39;00m)\n",
      "\u001b[0;31mTypeError\u001b[0m: The number of func parameters=7 must not exceed the number of data points=4"
     ]
    },
    {
     "data": {
      "image/png": "[encoded data removed]",
      "text/plain": [
       "<Figure size 864x288 with 1 Axes>"
      ]
     },
     "metadata": {
      "needs_background": "light"
     },
     "output_type": "display_data"
    }
   ],
   "source": [
    "# test for GPC1 in g filter\n",
    "target = \"2018agk\"\n",
    "\n",
    "file_location = file_name(target)\n",
    "original_data = data(file_location,'gp', 'Sinistro') # plot based on the the Instrument gp band\n",
    "time = np.array(original_data[0]) #MJD\n",
    "#print(time)\n",
    "mags = np.array(original_data[1]) #Mag\n",
    "mag_errors = np.array(original_data[2]) #Magerr\n",
    "y = mags\n",
    "x =time\n",
    "print(np.max(y)-np.min(y))\n",
    "print(- (np.min(y) - y[np.argmax(x)]) / (x[np.argmin(y)] - np.max(x)))\n",
    "print(x[np.argmin(y)])\n",
    "print(x[np.argmin(y)], np.max(x))\n",
    "print(x[np.argmin(y)] - np.min(x))\n",
    "print(np.max(x) - x[np.argmin(y)])\n",
    "\n",
    "print(np.min(y),np.max(y))  \n",
    "curvefitting_and_plot(SN_LC, time, mags, dy = mag_errors, target_and_filter_inst = 'target = 2018agk, Instrument= GPC1, filter = r' )\n"
   ]
  }
 ],
 "metadata": {
  "interpreter": {
   "hash": "1d8fa08f20503ce8002e37bfc9db8932ff775fa61e794679bab0b98bf9e9b56c"
  },
  "kernelspec": {
   "display_name": "Python 3.9.12 ('base')",
   "language": "python",
   "name": "python3"
  },
  "language_info": {
   "codemirror_mode": {
    "name": "ipython",
    "version": 3
   },
   "file_extension": ".py",
   "mimetype": "text/x-python",
   "name": "python",
   "nbconvert_exporter": "python",
   "pygments_lexer": "ipython3",
   "version": "3.9.12"
  },
  "orig_nbformat": 4
 },
 "nbformat": 4,
 "nbformat_minor": 2
}
